{
 "cells": [
  {
   "cell_type": "markdown",
   "metadata": {},
   "source": [
    "# 深度学习 实验1\n",
    "\n",
    "本节课我们尝试实现简单的模型——线性回归，线性回归是最简单的模型\n",
    "\n",
    "$$\n",
    "\\hat y=w\\cdot x+b\n",
    "$$\n",
    "\n",
    "其中 $w,b$ 是需要训练的参数，在训练前，请以分布 $U(-0.1,0.1)$ 进行随机初始化\n",
    "\n",
    "损失函数取\n",
    "\n",
    "$$\n",
    "L=\\frac{1}{2}(\\hat y-y)^2\n",
    "$$\n",
    "\n",
    "使用随机梯度下降法，在每次迭代中随机取样本 $x,y$，按照下式进行迭代：\n",
    "\n",
    "$$\n",
    "w\\leftarrow w-\\eta\\frac{\\partial L}{\\partial w}\n",
    "$$\n",
    "$$\n",
    "b\\leftarrow b-\\eta\\frac{\\partial L}{\\partial b}\n",
    "$$\n",
    "\n",
    "其中学习率 $\\eta$ 请自行调节。"
   ]
  },
  {
   "cell_type": "markdown",
   "metadata": {},
   "source": [
    "## Task 1\n",
    "\n",
    "用代码实现线性回归模型，请不要调用 `sklearn` 等机器学习库。"
   ]
  },
  {
   "cell_type": "code",
   "execution_count": 181,
   "metadata": {},
   "outputs": [],
   "source": [
    "#用来训练w，b\n",
    "#x,y代表自变量和因变量\n",
    "#xdim，ydim分别代表x和y的维度\n",
    "#dim代表训练数据量\n",
    "#eta为机器学习步长\n",
    "def train(x,y,xdim,ydim,dim,eta):\n",
    "    w=np.zeros(xdim)\n",
    "    b=np.zeros(ydim)\n",
    "    #迭代更新w，b\n",
    "    for i in range(dim):\n",
    "        y_hat=np.dot(x[i],w)+b\n",
    "        error=y_hat-y[i]\n",
    "        delta_w=error*x[i]\n",
    "        delta_b=error\n",
    "        w=w-delta_w*eta\n",
    "        b=b-delta_b*eta\n",
    "    return w,b\n",
    "\n",
    "#用来测试模型准确率\n",
    "def test(x,y,dim,w,b):\n",
    "    right=0\n",
    "    wrong=0\n",
    "    for i in range(dim):\n",
    "        y_hat=np.dot(x[i],w)+b\n",
    "        y_hat=round(y_hat[0])\n",
    "        if(y_hat==y[i]):\n",
    "            right+=1\n",
    "        else:\n",
    "            wrong+=1\n",
    "    return right,wrong"
   ]
  },
  {
   "cell_type": "markdown",
   "metadata": {},
   "source": [
    "## Task 2\n",
    "\n",
    "读取数据文件 `train_data.csv` 和 `test_data.csv`，文件中列为 `label` 的表示标签，1 表示正例，0 表示负例，其余列为 $x$，取值均为 0 或 1。使用 `train_data.csv` 训练你的模型，并用 `test_data.csv` 进行测试，计算模型的准确率。"
   ]
  },
  {
   "cell_type": "code",
   "execution_count": 182,
   "metadata": {
    "scrolled": true
   },
   "outputs": [
    {
     "name": "stdout",
     "output_type": "stream",
     "text": [
      "总共有 258 条测试数,其中正确条数为 257 错误个数为 1 。\n"
     ]
    }
   ],
   "source": [
    "import numpy as np\n",
    "import pandas as pd\n",
    "import math\n",
    "\n",
    "#读数\n",
    "train_data = pd.read_csv('train_data.csv')\n",
    "train_data=train_data.values[0:604,:]\n",
    "x=np.array(train_data[:,0:100])\n",
    "y=np.array(train_data[:,100])\n",
    "\n",
    "#初始化参数\n",
    "eta=0.01\n",
    "dim1=603\n",
    "xdim=100\n",
    "ydim=1\n",
    "w,b=train(x,y,xdim,ydim,dim1,eta)\n",
    "\n",
    "#读数\n",
    "test_data = pd.read_csv('test_data.csv')\n",
    "test_data=test_data.values[0:259,:]\n",
    "x_test=np.array(test_data[:,0:100])\n",
    "y_test=np.array(test_data[:,100])\n",
    "\n",
    "dim2=258\n",
    "right,wrong=test(x_test,y_test,dim2,w,b)\n",
    "print(\"总共有\",dim2,\"条测试数,其中正确条数为\",right,\"错误个数为\",wrong,\"。\")"
   ]
  },
  {
   "cell_type": "markdown",
   "metadata": {},
   "source": [
    "## Task 3\n",
    "\n",
    "请尝试使用不同的学习率 $\\eta$ 进行测试，比较模型的效果，试分析 $\\eta$ 的大小对模型效果的影响。"
   ]
  },
  {
   "cell_type": "code",
   "execution_count": 183,
   "metadata": {},
   "outputs": [
    {
     "name": "stdout",
     "output_type": "stream",
     "text": [
      "eta= 0.0 准确率= 0.49612403100775193\n",
      "eta= 0.0025 准确率= 0.9767441860465116\n",
      "eta= 0.005 准确率= 0.9883720930232558\n",
      "eta= 0.0075 准确率= 0.9922480620155039\n",
      "eta= 0.01 准确率= 0.9961240310077519\n",
      "eta= 0.0125 准确率= 0.9961240310077519\n",
      "eta= 0.015 准确率= 0.9961240310077519\n",
      "eta= 0.0175 准确率= 0.9961240310077519\n",
      "eta= 0.02 准确率= 0.9961240310077519\n",
      "eta= 0.0225 准确率= 0.9961240310077519\n",
      "eta= 0.025 准确率= 0.9961240310077519\n",
      "eta= 0.0275 准确率= 0.9961240310077519\n",
      "eta= 0.03 准确率= 0.9961240310077519\n",
      "eta= 0.0325 准确率= 0.9961240310077519\n",
      "eta= 0.035 准确率= 0.9961240310077519\n",
      "eta= 0.0375 准确率= 0.9961240310077519\n",
      "eta= 0.04 准确率= 0.9961240310077519\n",
      "eta= 0.0425 准确率= 0.9961240310077519\n",
      "eta= 0.045 准确率= 0.9922480620155039\n",
      "eta= 0.0475 准确率= 0.9922480620155039\n",
      "eta= 0.05 准确率= 0.9922480620155039\n",
      "eta= 0.0525 准确率= 0.9922480620155039\n",
      "eta= 0.055 准确率= 0.9883720930232558\n",
      "eta= 0.0575 准确率= 0.9883720930232558\n",
      "eta= 0.06 准确率= 0.9883720930232558\n",
      "eta= 0.0625 准确率= 0.9883720930232558\n",
      "eta= 0.065 准确率= 0.9883720930232558\n",
      "eta= 0.0675 准确率= 0.9883720930232558\n",
      "eta= 0.07 准确率= 0.9883720930232558\n",
      "eta= 0.0725 准确率= 0.9883720930232558\n",
      "eta= 0.075 准确率= 0.9844961240310077\n",
      "eta= 0.0775 准确率= 0.9806201550387597\n",
      "eta= 0.08 准确率= 0.9767441860465116\n",
      "eta= 0.0825 准确率= 0.9767441860465116\n",
      "eta= 0.085 准确率= 0.9767441860465116\n",
      "eta= 0.0875 准确率= 0.9767441860465116\n",
      "eta= 0.09 准确率= 0.9767441860465116\n",
      "eta= 0.0925 准确率= 0.9767441860465116\n",
      "eta= 0.095 准确率= 0.9728682170542635\n",
      "eta= 0.0975 准确率= 0.9651162790697675\n"
     ]
    }
   ],
   "source": [
    "\n",
    "for eta in range(0,1000,25):\n",
    "    eta=eta/10000\n",
    "    w,b=train(x,y,xdim,ydim,dim1,eta)\n",
    "    right,wrong=test(x_test,y_test,dim2,w,b)\n",
    "    print(\"eta=\",eta,\"准确率=\",right/dim2)"
   ]
  },
  {
   "cell_type": "markdown",
   "metadata": {},
   "source": [
    "由分析结果可以看出，学习率$\\eta$过大或者过小都会影响模型的准确率，eta在0.01~0.0425之间，模型效果越好。"
   ]
  },
  {
   "cell_type": "code",
   "execution_count": null,
   "metadata": {},
   "outputs": [],
   "source": []
  }
 ],
 "metadata": {
  "kernelspec": {
   "display_name": "Python 3",
   "language": "python",
   "name": "python3"
  },
  "language_info": {
   "codemirror_mode": {
    "name": "ipython",
    "version": 3
   },
   "file_extension": ".py",
   "mimetype": "text/x-python",
   "name": "python",
   "nbconvert_exporter": "python",
   "pygments_lexer": "ipython3",
   "version": "3.8.5"
  }
 },
 "nbformat": 4,
 "nbformat_minor": 4
}
