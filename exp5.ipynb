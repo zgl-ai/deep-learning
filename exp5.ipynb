{
 "cells": [
  {
   "cell_type": "markdown",
   "metadata": {},
   "source": [
    "# 实验6 人名识别"
   ]
  },
  {
   "cell_type": "markdown",
   "metadata": {},
   "source": [
    "本节课我们尝试处理序列化的数据。数据集中包含 $19$ 个国家的人名，人名只包含大小写英文字母，可以视为序列数据，请尝试使用任何你能想到的方法（例如 LSTM 等），预测测试数据集 `test_name_list.txt` 中每个人名是哪个国家的。\n",
    "\n",
    "下面给出了一段简短的代码，没有使用任何机器学习和深度学习算法，用人名包含的字符串字串匹配进行暴力预测，该算法在训练数据集上可以达到 $93\\%$ 的准确率，在测试集上可以达到 $76\\%$ 的准确率，可将该算法作为 baseline."
   ]
  },
  {
   "cell_type": "markdown",
   "metadata": {},
   "source": [
    "**本次实验除了提交实验报告外，还需将测试数据集的结果以 test_label_list_predict.txt 提交，格式可参考 train_label_list.txt**"
   ]
  },
  {
   "cell_type": "code",
   "execution_count": 20,
   "metadata": {},
   "outputs": [
    {
     "name": "stdout",
     "output_type": "stream",
     "text": [
      "train acc: 0.927496202182019\n"
     ]
    }
   ],
   "source": [
    "def build_dict(name_list):\n",
    "    dic={}\n",
    "    for name in name_list:\n",
    "        for L in range(2,5):\n",
    "            for i in range(len(name)-L):\n",
    "                dic[name[i:i+L]]=0\n",
    "    return dic\n",
    "\n",
    "def build_all_dic(train_name_list,train_label_list):\n",
    "    labels=sorted(list(set(train_label_list)))\n",
    "    dic={}\n",
    "    for label in labels:\n",
    "        dic[label]=build_dict([i for i,j in zip(train_name_list,train_label_list) if j==label])\n",
    "    return dic\n",
    "\n",
    "def predict(dic,name):\n",
    "    num={i:0 for i in dic}\n",
    "    for L in range(2,5):\n",
    "        for i in range(len(name)-L):\n",
    "            for label in dic:\n",
    "                if name[i:i+L] in dic[label]:\n",
    "                    num[label]+=1\n",
    "    max_num=max([num[i] for i in num])\n",
    "    for i in num:\n",
    "        if num[i]==max_num:\n",
    "            return i\n",
    "\n",
    "def judge(label_list,label_list_predict):\n",
    "    correct=0\n",
    "    for i,j in zip(label_list,label_list_predict):\n",
    "        if i==j:\n",
    "            correct+=1\n",
    "    return correct/len(label_list)\n",
    "\n",
    "train_name_list=open(\"train_name_list.txt\",\"r\").read().split()\n",
    "train_label_list=open(\"train_label_list.txt\",\"r\").read().split()\n",
    "test_name_list=open(\"test_name_list.txt\",\"r\").read().split()\n",
    "#test_label_list=open(\"test_label_list.txt\",\"r\").read().split()\n",
    "\n",
    "dic=build_all_dic(train_name_list,train_label_list)\n",
    "train_label_list_predict=[predict(dic,name) for name in train_name_list]\n",
    "print(\"train acc:\",judge(train_label_list,train_label_list_predict))\n",
    "test_label_list_predict=[predict(dic,name) for name in test_name_list]\n",
    "with open(\"test_label_list_predict.txt\",\"w\") as f:\n",
    "    for i in test_label_list_predict:\n",
    "        f.write(i)\n",
    "        f.write(\"\\n\")"
   ]
  },
  {
   "cell_type": "markdown",
   "metadata": {},
   "source": [
    "准备数据"
   ]
  },
  {
   "cell_type": "code",
   "execution_count": 21,
   "metadata": {},
   "outputs": [],
   "source": [
    "from __future__ import unicode_literals, print_function, division\n",
    "from io import open\n",
    "import glob\n",
    "import os\n",
    "\n",
    "import unicodedata\n",
    "import string\n",
    "\n",
    "all_letters = string.ascii_letters + \" .,;'\"\n",
    "#abcdefghijklmnopqrstuvwxyzABCDEFGHIJKLMNOPQRSTUVWXYZ .,;'\n",
    "n_letters = len(all_letters)\n",
    "\n",
    "#把字符串s转换为Ascii码，便于统一格式\n",
    "def unicodeToAscii(s):\n",
    "    return ''.join(\n",
    "        c for c in unicodedata.normalize('NFD', s)\n",
    "        if unicodedata.category(c) != 'Mn'\n",
    "        and c in all_letters\n",
    "    )\n",
    "\n",
    "#{国家名：[包含的人名]}\n",
    "category_lines = {}\n",
    "#[所有国家名的集合]\n",
    "all_categories = []\n",
    "\n",
    "#读取文件，按换行分割\n",
    "def readLines(filename):\n",
    "    lines = open(filename, encoding='utf-8').read().strip().split('\\n')\n",
    "    return [unicodeToAscii(line) for line in lines]\n",
    "\n",
    "\n",
    "name=readLines('train_name_list.txt')\n",
    "label=readLines('train_label_list.txt')\n",
    "all_categories=list(set(label))\n",
    "\n",
    "#将名字按照国际分类\n",
    "for category in all_categories:\n",
    "    lines=[]\n",
    "    for i in range(len(name)):\n",
    "        if label[i]==category:\n",
    "            lines.append(name[i])\n",
    "    category_lines[category] = lines\n",
    "    \n",
    "\n",
    "#所有国家的数量\n",
    "n_categories = len(all_categories)"
   ]
  },
  {
   "cell_type": "markdown",
   "metadata": {},
   "source": [
    "把字符串转变为张量"
   ]
  },
  {
   "cell_type": "code",
   "execution_count": 22,
   "metadata": {},
   "outputs": [],
   "source": [
    "import torch\n",
    "\n",
    "#从all_letters中找到指定字符letter的下标\n",
    "def letterToIndex(letter):\n",
    "    return all_letters.find(letter)\n",
    "\n",
    "#把一个字符转换为张量，独热编码的模式\n",
    "def letterToTensor(letter):\n",
    "    tensor = torch.zeros(1, n_letters)#全0张量\n",
    "    tensor[0][letterToIndex(letter)] = 1#指定位置置为1\n",
    "    return tensor\n",
    "\n",
    "#把一个字符串转换为一个三维张量{字符个数x1xn_letters}\n",
    "def lineToTensor(line):\n",
    "    tensor = torch.zeros(len(line), 1, n_letters)#全0\n",
    "    for li, letter in enumerate(line):\n",
    "        tensor[li][0][letterToIndex(letter)] = 1\n",
    "    return tensor\n"
   ]
  },
  {
   "cell_type": "markdown",
   "metadata": {},
   "source": [
    "定义神经网络的结构"
   ]
  },
  {
   "cell_type": "markdown",
   "metadata": {},
   "source": [
    "只构造包含三层的神经网络，输入层，隐藏层，输出层"
   ]
  },
  {
   "cell_type": "code",
   "execution_count": 23,
   "metadata": {},
   "outputs": [],
   "source": [
    "import torch.nn as nn\n",
    "\n",
    "class RNN(nn.Module):\n",
    "    def __init__(self, input_size, hidden_size, output_size):\n",
    "        super(RNN, self).__init__()\n",
    "\n",
    "        self.hidden_size = hidden_size\n",
    "\n",
    "        self.i2h = nn.Linear(input_size + hidden_size, hidden_size)#输入层加上上一次的隐藏层输出为隐藏层，供下一次使用\n",
    "        self.i2o = nn.Linear(input_size + hidden_size, output_size)#输入层加上上一次的隐藏层输出为输出层\n",
    "        self.softmax = nn.LogSoftmax(dim=1)\n",
    "\n",
    "    def forward(self, input, hidden):\n",
    "        combined = torch.cat((input, hidden), 1)\n",
    "        hidden = self.i2h(combined)\n",
    "        output = self.i2o(combined)\n",
    "        output = self.softmax(output)#输出是一个n_categories维的向量，代表了这个人名属于每个国家的概率\n",
    "        return output, hidden\n",
    "\n",
    "    def initHidden(self):\n",
    "        return torch.zeros(1, self.hidden_size)#刚开始隐藏层输出全部初始化为1\n",
    "\n",
    "n_hidden =256\n",
    "rnn = RNN(n_letters, n_hidden, n_categories)"
   ]
  },
  {
   "cell_type": "markdown",
   "metadata": {},
   "source": [
    "从向量的输出中，找出最有可能的国家"
   ]
  },
  {
   "cell_type": "code",
   "execution_count": 24,
   "metadata": {},
   "outputs": [],
   "source": [
    "def categoryFromOutput(output):\n",
    "    top_n, top_i = output.topk(1)\n",
    "    category_i = top_i[0].item()\n",
    "    return all_categories[category_i], category_i\n"
   ]
  },
  {
   "cell_type": "markdown",
   "metadata": {},
   "source": [
    "随机选择训练集"
   ]
  },
  {
   "cell_type": "code",
   "execution_count": 25,
   "metadata": {},
   "outputs": [],
   "source": [
    "import random\n",
    "\n",
    "def randomChoice(l):\n",
    "    return l[random.randint(0, len(l) - 1)]\n",
    "\n",
    "\n",
    "#先从all_categories中随机选取国家，再从国家中随机选人名\n",
    "def randomTrainingExample():\n",
    "    category = randomChoice(all_categories)\n",
    "    line = randomChoice(category_lines[category])\n",
    "    category_tensor = torch.tensor([all_categories.index(category)], dtype=torch.long)\n",
    "    line_tensor = lineToTensor(line)\n",
    "    return category, line, category_tensor, line_tensor#输出为 国家名，人名，人名转换之后的张量\n"
   ]
  },
  {
   "cell_type": "markdown",
   "metadata": {},
   "source": [
    "训练模型，输出损失值，梯度下降更新参数"
   ]
  },
  {
   "cell_type": "code",
   "execution_count": 26,
   "metadata": {},
   "outputs": [],
   "source": [
    "criterion = nn.NLLLoss()#损失值的计算方式\n",
    "\n",
    "learning_rate = 0.007# If you set this too high, it might explode. If too low, it might not learn\n",
    "\n",
    "def train(category_tensor, line_tensor):\n",
    "    hidden = rnn.initHidden()#初始化隐藏层\n",
    "\n",
    "    rnn.zero_grad()\n",
    "\n",
    "    for i in range(line_tensor.size()[0]):#循环输入input中的每个字符的张量，获得隐藏层和输出层，隐藏层下一次使用\n",
    "        output, hidden = rnn(line_tensor[i], hidden)\n",
    "\n",
    "    loss = criterion(output, category_tensor)#计算最终输出和label的损失值\n",
    "    loss.backward()\n",
    "\n",
    "    # Add parameters' gradients to their values, multiplied by learning rate\n",
    "    for p in rnn.parameters():#对网络中的每个参数，减去梯度乘以学习率来更新参数\n",
    "        p.data.add_(p.grad.data, alpha=-learning_rate)\n",
    "\n",
    "    return output, loss.item()#输出 输出层和损失值\n"
   ]
  },
  {
   "cell_type": "markdown",
   "metadata": {},
   "source": [
    "开始训练模型"
   ]
  },
  {
   "cell_type": "code",
   "execution_count": 27,
   "metadata": {},
   "outputs": [
    {
     "name": "stdout",
     "output_type": "stream",
     "text": [
      "5000 5% (0m 6s) 2.3954 Zabek / Czech ✗ (Polish)0.2254\n",
      "10000 10% (0m 12s) 1.0986 Tieu / Vietnamese ✓0.3658\n",
      "15000 15% (0m 17s) 0.9664 Orsini / Italian ✓0.4360\n",
      "20000 20% (0m 23s) 0.2330 Mcdonald / Scottish ✓0.4848\n",
      "25000 25% (0m 30s) 2.0313 Pfeifer / German ✗ (Czech)0.5190\n",
      "30000 30% (0m 36s) 0.1326 Ishiguro / Japanese ✓0.5358\n",
      "35000 35% (0m 41s) 0.1318 Corraidhin / Irish ✓0.5534\n",
      "40000 40% (0m 47s) 2.2925 Fuentes / Portuguese ✗ (Spanish)0.5962\n",
      "45000 45% (0m 53s) 1.4567 Dickson / Korean ✗ (Scottish)0.5624\n",
      "50000 50% (0m 58s) 0.6528 Porras / Spanish ✓0.5816\n",
      "55000 55% (1m 4s) 0.6608 Mui / Chinese ✓0.5920\n",
      "60000 60% (1m 9s) 0.4537 Kim / Korean ✓0.6094\n",
      "65000 65% (1m 15s) 0.5371 Kamo / Japanese ✓0.6042\n",
      "70000 70% (1m 20s) 1.1891 Cruz / Portuguese ✓0.5986\n",
      "75000 75% (1m 26s) 0.4779 Ricchetti / Italian ✓0.6120\n",
      "80000 80% (1m 32s) 1.9275 Sessa / Spanish ✗ (Italian)0.6174\n",
      "85000 85% (1m 37s) 0.1131 Ddz / Mars ✓0.6222\n",
      "90000 90% (1m 43s) 1.8202 Pender / German ✗ (English)0.6092\n",
      "95000 95% (1m 49s) 1.2074 Cattaneo / Spanish ✗ (Italian)0.6302\n",
      "100000 100% (1m 55s) 0.9163 Luc / Vietnamese ✓0.6216\n"
     ]
    }
   ],
   "source": [
    "import time\n",
    "import math\n",
    "\n",
    "n_iters = 100000\n",
    "print_every = 5000\n",
    "plot_every = 1000\n",
    "\n",
    "\n",
    "\n",
    "#记录损失值\n",
    "current_loss = 0\n",
    "all_losses = []\n",
    "accuraty_rate=[]\n",
    "right_count=0\n",
    "\n",
    "#计算输出从开始到目前所用时间\n",
    "def timeSince(since):\n",
    "    now = time.time()\n",
    "    s = now - since\n",
    "    m = math.floor(s / 60)\n",
    "    s -= m * 60\n",
    "    return '%dm %ds' % (m, s)\n",
    "\n",
    "start = time.time()\n",
    "\n",
    "for iter in range(1, n_iters + 1):\n",
    "    category, line, category_tensor, line_tensor = randomTrainingExample()\n",
    "    output, loss = train(category_tensor, line_tensor)\n",
    "    current_loss += loss\n",
    "    \n",
    "    guess, guess_i = categoryFromOutput(output)\n",
    "    if guess==category:\n",
    "        right_count+=1\n",
    "    #打印训练过程\n",
    "    if iter % print_every == 0:\n",
    "        correct = '✓' if guess == category else '✗ (%s)' % category\n",
    "        print('%d %d%% (%s) %.4f %s / %s %s%.4f' % (iter, iter / n_iters * 100, timeSince(start), loss, line, guess, correct,right_count/print_every))\n",
    "        right_count=0\n",
    "    # 记录每一个阶段的平均损失率\n",
    "    if iter % plot_every == 0:\n",
    "        all_losses.append(current_loss / plot_every)\n",
    "        #accuraty_rate.append(right_count/plot_every)\n",
    "        current_loss = 0\n",
    "        #right_count=0\n",
    "        "
   ]
  },
  {
   "cell_type": "markdown",
   "metadata": {},
   "source": [
    "画出损失率-迭代批次图"
   ]
  },
  {
   "cell_type": "code",
   "execution_count": 28,
   "metadata": {
    "scrolled": false
   },
   "outputs": [
    {
     "data": {
      "text/plain": [
       "[<matplotlib.lines.Line2D at 0x123579d30>]"
      ]
     },
     "execution_count": 28,
     "metadata": {},
     "output_type": "execute_result"
    },
    {
     "data": {
      "image/png": "[encoded data removed]",
      "text/plain": [
       "<Figure size 432x288 with 1 Axes>"
      ]
     },
     "metadata": {
      "needs_background": "light"
     },
     "output_type": "display_data"
    }
   ],
   "source": [
    "import matplotlib.pyplot as plt\n",
    "import matplotlib.ticker as ticker\n",
    "\n",
    "plt.figure()\n",
    "plt.plot(all_losses)"
   ]
  },
  {
   "cell_type": "markdown",
   "metadata": {},
   "source": [
    "输出预测列表"
   ]
  },
  {
   "cell_type": "code",
   "execution_count": 39,
   "metadata": {},
   "outputs": [],
   "source": [
    "def evaluate(line_tensor):\n",
    "    hidden = rnn.initHidden()\n",
    "\n",
    "    for i in range(line_tensor.size()[0]):\n",
    "        output, hidden = rnn(line_tensor[i], hidden)\n",
    "\n",
    "    return output\n",
    "def predict(input_line, n_predictions=1):\n",
    "    with torch.no_grad():\n",
    "        output = evaluate(lineToTensor(input_line))\n",
    "\n",
    "        # Get top N categories\n",
    "        topv, topi = output.topk(n_predictions, 1, True)\n",
    "        predictions = []\n",
    "\n",
    "        for i in range(n_predictions):\n",
    "            value = topv[0][i].item()\n",
    "            category_index = topi[0][i].item()\n",
    "            predictions.append([all_categories[category_index]])\n",
    "    return(predictions[0][0])\n",
    "\n",
    "\n",
    "file_object = open('test_label_list_predict.txt', 'w')\n",
    "name_test=readLines('test_name_list.txt')\n",
    "for person in name_test:\n",
    "    file_object.write(predict(person)+'\\n')\n",
    "file_object.close()"
   ]
  },
  {
   "cell_type": "code",
   "execution_count": null,
   "metadata": {},
   "outputs": [],
   "source": []
  }
 ],
 "metadata": {
  "kernelspec": {
   "display_name": "Python 3",
   "language": "python",
   "name": "python3"
  },
  "language_info": {
   "codemirror_mode": {
    "name": "ipython",
    "version": 3
   },
   "file_extension": ".py",
   "mimetype": "text/x-python",
   "name": "python",
   "nbconvert_exporter": "python",
   "pygments_lexer": "ipython3",
   "version": "3.8.5"
  }
 },
 "nbformat": 4,
 "nbformat_minor": 4
}
